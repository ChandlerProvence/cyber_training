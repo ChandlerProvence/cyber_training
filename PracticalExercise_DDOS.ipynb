{
 "cells": [
  {
   "cell_type": "markdown",
   "id": "12f8165a",
   "metadata": {},
   "source": [
    "#  <span style=\"color:#0b186c;\">Practical Exercise on Intrusion Detection Systems (IDS)</span>\n",
    "\n",
    "---\n",
    "\n",
    "## <span style=\"color:#0b186c;\">Required Imports:</span>\n",
    "\n",
    "<div class=\"alert alert-warning\">\n",
    "\n",
    "<b>Note:</b> If you have not previously installed these `packages`, you can use the cell below to perform the required `pip` installs.\n",
    "\n",
    "</div>"
   ]
  },
  {
   "cell_type": "code",
   "execution_count": null,
   "id": "3eb86be8",
   "metadata": {},
   "outputs": [],
   "source": [
    "# In case you still need to perform some pip installs:\n",
    "! pip install --user pandas -q\n",
    "! pip install --user numpy -q\n",
    "! pip install --user scikit-learn -q"
   ]
  },
  {
   "cell_type": "code",
   "execution_count": null,
   "id": "99c1cbc7",
   "metadata": {},
   "outputs": [],
   "source": [
    "# Dataframe and array libraries\n",
    "import pandas as pd\n",
    "import numpy as np\n",
    "\n",
    "# URL and System libraries for importing data\n",
    "import requests\n",
    "import io\n",
    "\n",
    "# Libraries for visualizing data\n",
    "import matplotlib.pyplot as plt\n",
    "import seaborn as sns\n",
    "\n",
    "# Required for performing standardization robust to outliers\n",
    "from sklearn.preprocessing import RobustScaler\n",
    "\n",
    "# Required for performing encoding on categorical input variables\n",
    "from sklearn.preprocessing import OrdinalEncoder\n",
    "\n",
    "# Required for performing encoding categorical input variables into new columns\n",
    "from sklearn.preprocessing import OneHotEncoder\n",
    "\n",
    "# Required for training and validating a model\n",
    "from sklearn.model_selection import train_test_split\n",
    "\n",
    "# Required for instantiating and running a Decision Tree model\n",
    "from sklearn.tree import DecisionTreeClassifier\n",
    "from sklearn import tree\n",
    "\n",
    "# Classification metrics and confusion matrix\n",
    "from sklearn.metrics import confusion_matrix, accuracy_score, plot_confusion_matrix, ConfusionMatrixDisplay\n",
    "\n",
    "# Required for performing dimensionality reduction\n",
    "from sklearn.decomposition import PCA\n",
    "\n",
    "# Filters out warning messages\n",
    "import warnings\n",
    "warnings.filterwarnings('ignore')"
   ]
  },
  {
   "cell_type": "markdown",
   "id": "47087f50",
   "metadata": {},
   "source": [
    "#  <span style=\"color:#0b186c;\">Dataset Information</span><a class=\"anchor\" id=\"fourth-bullet\"></a>\n",
    "\n",
    "---\n",
    "\n",
    "https://www.unb.ca/cic/datasets/ids-2017.html"
   ]
  },
  {
   "cell_type": "code",
   "execution_count": null,
   "id": "e6a1ebeb",
   "metadata": {},
   "outputs": [],
   "source": [
    "# Download the training data from github\n",
    "url = \"https://raw.githubusercontent.com/ChandlerProvence/cyber_training/main/DDOS.csv\"\n",
    "download = requests.get(url).content\n",
    "\n",
    "# Read in the training dataset\n",
    "df = pd.read_csv(io.StringIO(download.decode('utf-8')))\n",
    "\n",
    "df"
   ]
  },
  {
   "cell_type": "markdown",
   "id": "61c4c827",
   "metadata": {},
   "source": [
    "#  <span style=\"color:#0b186c;\">Data Preprocessing</span><a class=\"anchor\" id=\"fourth-bullet\"></a>\n",
    "\n",
    "---"
   ]
  },
  {
   "cell_type": "code",
   "execution_count": null,
   "id": "0fd90a6f",
   "metadata": {},
   "outputs": [],
   "source": [
    "df.loc[(df.target == 'BENIGN'), 'target'] = 0\n",
    "df.loc[(df.target != 0), 'target'] = 1\n",
    "\n",
    "df"
   ]
  },
  {
   "cell_type": "markdown",
   "id": "f10ca118",
   "metadata": {},
   "source": [
    "#  <span style=\"color:#0b186c;\">Model Development</span><a class=\"anchor\" id=\"fourth-bullet\"></a>\n",
    "\n",
    "---"
   ]
  },
  {
   "cell_type": "code",
   "execution_count": null,
   "id": "4c5c70e8",
   "metadata": {},
   "outputs": [],
   "source": []
  }
 ],
 "metadata": {
  "kernelspec": {
   "display_name": "Python 3 (ipykernel)",
   "language": "python",
   "name": "python3"
  },
  "language_info": {
   "codemirror_mode": {
    "name": "ipython",
    "version": 3
   },
   "file_extension": ".py",
   "mimetype": "text/x-python",
   "name": "python",
   "nbconvert_exporter": "python",
   "pygments_lexer": "ipython3",
   "version": "3.9.12"
  }
 },
 "nbformat": 4,
 "nbformat_minor": 5
}
